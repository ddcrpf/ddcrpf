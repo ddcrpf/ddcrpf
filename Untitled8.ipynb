{
  "nbformat": 4,
  "nbformat_minor": 0,
  "metadata": {
    "colab": {
      "provenance": []
    },
    "kernelspec": {
      "name": "python3",
      "display_name": "Python 3"
    },
    "language_info": {
      "name": "python"
    }
  },
  "cells": [
    {
      "cell_type": "code",
      "execution_count": 1,
      "metadata": {
        "colab": {
          "base_uri": "https://localhost:8080/"
        },
        "id": "euFrc2VZd-cX",
        "outputId": "c84519c7-cef4-4d1e-de24-fcde9c44b9fc"
      },
      "outputs": [
        {
          "output_type": "stream",
          "name": "stdout",
          "text": [
            "15\n"
          ]
        }
      ],
      "source": [
        "def length(string):\n",
        "    if string == \"\":\n",
        "        return 0\n",
        "    else:\n",
        "        return 1 + length(string[1:] )\n",
        "str = \"Geeksfor. Geeks\"\n",
        "\n",
        "print (length(str))\n"
      ]
    },
    {
      "cell_type": "code",
      "source": [
        "def find_min(list):\n",
        "  if len(list) == 1:\n",
        "    return list[0]\n",
        "  return min(list[0], find_min(list[1:]))\n",
        "\n",
        "listA = [9,6,1,80,9]\n",
        "find_min(listA)\n"
      ],
      "metadata": {
        "colab": {
          "base_uri": "https://localhost:8080/"
        },
        "id": "8e-bekuld_EO",
        "outputId": "bcc8f2e6-8ac1-4a35-f24d-9e5ca3c8776a"
      },
      "execution_count": 3,
      "outputs": [
        {
          "output_type": "execute_result",
          "data": {
            "text/plain": [
              "1"
            ]
          },
          "metadata": {},
          "execution_count": 3
        }
      ]
    },
    {
      "cell_type": "code",
      "source": [
        "input.txt =\n",
        "\"df,\n",
        "as,\n",
        "cd,\n",
        "io\"\n",
        "\n"
      ],
      "metadata": {
        "id": "rn13vWXyjdIj"
      },
      "execution_count": null,
      "outputs": []
    },
    {
      "cell_type": "markdown",
      "source": [],
      "metadata": {
        "id": "1wOey2oGjcvy"
      }
    },
    {
      "cell_type": "markdown",
      "source": [],
      "metadata": {
        "id": "6G4OM_VpjcXk"
      }
    },
    {
      "cell_type": "code",
      "source": [
        "def copy(from_file,to_file):\n",
        "  file1 = open(from_file, \"r\")\n",
        "  file2 = open(from_file, \"w\")\n",
        "  lines = file1.readlines()\n",
        "  for i in range(1, len(lines)):\n",
        "    if (i%2 != 0):\n",
        "      file2.write(lines[i])\n",
        "  print(\"copy successful\")\n",
        "\n",
        "  file1.close()\n",
        "  # printer = file2.readlines()\n",
        "  # print(printer)\n",
        "  file2.close()\n",
        "\n",
        "from_file = \"input.txt\"\n",
        "to_file = \"output.txt\"\n",
        "copy(from_file, to_file)\n"
      ],
      "metadata": {
        "colab": {
          "base_uri": "https://localhost:8080/"
        },
        "id": "ocQ613HAezoN",
        "outputId": "f60d52f1-b4f4-443a-b224-37d6e0f22dd1"
      },
      "execution_count": 14,
      "outputs": [
        {
          "output_type": "stream",
          "name": "stdout",
          "text": [
            "copy successful\n"
          ]
        }
      ]
    },
    {
      "cell_type": "code",
      "source": [
        "class Person:\n",
        "  def __init__(self, usn, name, dob , gender):\n",
        "    self.usn = usn\n",
        "    self.name = name\n",
        "    self.dob = dob\n",
        "    self.gender = gender\n",
        "\n",
        "class student(Person):\n",
        "  def __init__(self, usn, name, dob , gender ,clas, branch, year):\n",
        "    super().__init__\n",
        "    self.clas = clas\n",
        "    self.branch  = branch\n",
        "    self.year = year\n",
        "\n",
        "class marksattandence():\n",
        "  def __init__ (self, marks, attandence):\n",
        "    self.marks = marks\n",
        "    self.attandence = attandence"
      ],
      "metadata": {
        "id": "3pICfvcsjbOh"
      },
      "execution_count": 15,
      "outputs": []
    },
    {
      "cell_type": "code",
      "source": [
        "s = student(\"1nt21ai043\", \"Prnjl\", 2002-11-29,\" male\" , 10, \"aiml\", 2019)\n",
        "\n",
        "print(\"usn:\", usn)\n",
        "print(\"name:\", name)\n",
        "print(\"dob :\", dob)\n",
        "print(\"gender \", gender)\n"
      ],
      "metadata": {
        "colab": {
          "base_uri": "https://localhost:8080/",
          "height": 240
        },
        "id": "KR-dDDShnkvm",
        "outputId": "ce2c302f-713d-4de1-908e-0fa6115ca524"
      },
      "execution_count": 16,
      "outputs": [
        {
          "output_type": "error",
          "ename": "NameError",
          "evalue": "ignored",
          "traceback": [
            "\u001b[0;31m---------------------------------------------------------------------------\u001b[0m",
            "\u001b[0;31mNameError\u001b[0m                                 Traceback (most recent call last)",
            "\u001b[0;32m<ipython-input-16-23c8dc9f44ff>\u001b[0m in \u001b[0;36m<cell line: 3>\u001b[0;34m()\u001b[0m\n\u001b[1;32m      1\u001b[0m \u001b[0ms\u001b[0m \u001b[0;34m=\u001b[0m \u001b[0mstudent\u001b[0m\u001b[0;34m(\u001b[0m\u001b[0;34m\"1nt21ai043\"\u001b[0m\u001b[0;34m,\u001b[0m \u001b[0;34m\"Prnjl\"\u001b[0m\u001b[0;34m,\u001b[0m \u001b[0;36m2002\u001b[0m\u001b[0;34m-\u001b[0m\u001b[0;36m11\u001b[0m\u001b[0;34m-\u001b[0m\u001b[0;36m29\u001b[0m\u001b[0;34m,\u001b[0m\u001b[0;34m\" male\"\u001b[0m \u001b[0;34m,\u001b[0m \u001b[0;36m10\u001b[0m\u001b[0;34m,\u001b[0m \u001b[0;34m\"aiml\"\u001b[0m\u001b[0;34m,\u001b[0m \u001b[0;36m2019\u001b[0m\u001b[0;34m)\u001b[0m\u001b[0;34m\u001b[0m\u001b[0;34m\u001b[0m\u001b[0m\n\u001b[1;32m      2\u001b[0m \u001b[0;34m\u001b[0m\u001b[0m\n\u001b[0;32m----> 3\u001b[0;31m \u001b[0mprint\u001b[0m\u001b[0;34m(\u001b[0m\u001b[0;34m\"usn:\"\u001b[0m\u001b[0;34m,\u001b[0m \u001b[0musn\u001b[0m\u001b[0;34m)\u001b[0m\u001b[0;34m\u001b[0m\u001b[0;34m\u001b[0m\u001b[0m\n\u001b[0m\u001b[1;32m      4\u001b[0m \u001b[0mprint\u001b[0m\u001b[0;34m(\u001b[0m\u001b[0;34m\"name:\"\u001b[0m\u001b[0;34m,\u001b[0m \u001b[0mname\u001b[0m\u001b[0;34m)\u001b[0m\u001b[0;34m\u001b[0m\u001b[0;34m\u001b[0m\u001b[0m\n\u001b[1;32m      5\u001b[0m \u001b[0mprint\u001b[0m\u001b[0;34m(\u001b[0m\u001b[0;34m\"dob :\"\u001b[0m\u001b[0;34m,\u001b[0m \u001b[0mdob\u001b[0m\u001b[0;34m)\u001b[0m\u001b[0;34m\u001b[0m\u001b[0;34m\u001b[0m\u001b[0m\n",
            "\u001b[0;31mNameError\u001b[0m: name 'usn' is not defined"
          ]
        }
      ]
    },
    {
      "cell_type": "code",
      "source": [
        "class Rectangle:\n",
        "  def __init__(self, width, height , x_corner, y_corner):\n",
        "    self.width = width\n",
        "    self.height = height\n",
        "    self.x_corner = x_corner\n",
        "    self.y_corner = y_corner\n",
        "\n",
        "    def area():\n",
        "      return self.width * self.height\n",
        "\n",
        "    def perimeter():\n",
        "      return 2*(self.width , self.height)\n",
        "\n",
        "    def center():\n",
        "      center_x  =  self.width + self.center_x/2\n",
        "      center_y  =  self.height + self.center_y/2\n",
        "\n",
        "\n",
        ""
      ],
      "metadata": {
        "id": "WNhUNGtsoW-V"
      },
      "execution_count": 20,
      "outputs": []
    },
    {
      "cell_type": "code",
      "source": [
        "rect = Rectangle(10, 10 , 8 , 8)\n"
      ],
      "metadata": {
        "id": "zoy33So8pRDj"
      },
      "execution_count": 21,
      "outputs": []
    },
    {
      "cell_type": "code",
      "source": [
        "import urllib\n",
        "u = urllib.request.urlopen(\"https://www.geeksforgeeks.org/\")\n",
        "text = u.read()\n",
        "number = re.findall([\"0-9\"]{7})"
      ],
      "metadata": {
        "id": "CsfLyRZhpXgZ"
      },
      "execution_count": null,
      "outputs": []
    },
    {
      "cell_type": "code",
      "source": [
        "from urllib import request\n",
        "resp = request.urlopen(\"https://www.wikipedia.org\")\n",
        "type(resp)\n"
      ],
      "metadata": {
        "colab": {
          "base_uri": "https://localhost:8080/"
        },
        "id": "8igMQab2wC4z",
        "outputId": "e4ca9ac0-7e26-4d8f-e274-aedc17f30545"
      },
      "execution_count": 2,
      "outputs": [
        {
          "output_type": "execute_result",
          "data": {
            "text/plain": [
              "http.client.HTTPResponse"
            ]
          },
          "metadata": {},
          "execution_count": 2
        }
      ]
    },
    {
      "cell_type": "code",
      "source": [
        "resp.code"
      ],
      "metadata": {
        "colab": {
          "base_uri": "https://localhost:8080/"
        },
        "id": "tSsvV2XTwCvt",
        "outputId": "d50b8c1d-508c-4a11-ed95-9ab9fc5d61cd"
      },
      "execution_count": 3,
      "outputs": [
        {
          "output_type": "execute_result",
          "data": {
            "text/plain": [
              "200"
            ]
          },
          "metadata": {},
          "execution_count": 3
        }
      ]
    },
    {
      "cell_type": "code",
      "source": [
        "data = resp.read()\n"
      ],
      "metadata": {
        "id": "pyRNAa3awjm3"
      },
      "execution_count": 4,
      "outputs": []
    },
    {
      "cell_type": "code",
      "source": [
        "from urllib import request\n",
        "import re\n",
        "reader = request.urlopen(\"https://www.redbus.in/info/redcare\")\n",
        "text = reader.read()\n",
        "regex = \"[0-9-]{9}[0-9-]+\"\n",
        "numbers = re.findall(regex, str(text), re.I)\n",
        "for no in numbers:\n",
        "  print(no)\n",
        "\n"
      ],
      "metadata": {
        "colab": {
          "base_uri": "https://localhost:8080/"
        },
        "id": "L8xn-Bozw2-i",
        "outputId": "c0778c18-053c-4c4c-f200-76b390c703c9"
      },
      "execution_count": 8,
      "outputs": [
        {
          "output_type": "stream",
          "name": "stdout",
          "text": [
            "65-31582888\n",
            "2023-07-22\n"
          ]
        }
      ]
    },
    {
      "cell_type": "code",
      "source": [
        "from urllib import request\n",
        "import re\n",
        "reader = request.urlopen(\"https://www.redbus.in/info/redcare\")\n",
        "text = reader.read()\n",
        "regex = \"[7-9]\\d{9}\"\n",
        "numbers = re.findall(regex, str(text), re.I)\n",
        "for no in numbers:\n",
        "  print(no)\n"
      ],
      "metadata": {
        "id": "4oawcXQM2av8"
      },
      "execution_count": 11,
      "outputs": []
    },
    {
      "cell_type": "code",
      "source": [
        "import re\n",
        "file1 = open(\"input.txt\", \"r\")\n",
        "file2 = open(\"output.txt\", \"w\")\n",
        "for line in file1:\n",
        "  list = re.findall('[7-9]\\d{9}')\n",
        "  for n in list:\n",
        "    file2.write(n+\"\\n\")\n",
        "print(\"extracted all mobile no in output.txt\")\n",
        "file1.close()\n",
        "file2.close()"
      ],
      "metadata": {
        "colab": {
          "base_uri": "https://localhost:8080/",
          "height": 240
        },
        "id": "Bca7wOex3fje",
        "outputId": "18f63426-82b9-4349-fd70-8b61cc3b1a40"
      },
      "execution_count": 12,
      "outputs": [
        {
          "output_type": "error",
          "ename": "FileNotFoundError",
          "evalue": "ignored",
          "traceback": [
            "\u001b[0;31m---------------------------------------------------------------------------\u001b[0m",
            "\u001b[0;31mFileNotFoundError\u001b[0m                         Traceback (most recent call last)",
            "\u001b[0;32m<ipython-input-12-e3cd4a9754f4>\u001b[0m in \u001b[0;36m<cell line: 2>\u001b[0;34m()\u001b[0m\n\u001b[1;32m      1\u001b[0m \u001b[0;32mimport\u001b[0m \u001b[0mre\u001b[0m\u001b[0;34m\u001b[0m\u001b[0;34m\u001b[0m\u001b[0m\n\u001b[0;32m----> 2\u001b[0;31m \u001b[0mfile1\u001b[0m \u001b[0;34m=\u001b[0m \u001b[0mopen\u001b[0m\u001b[0;34m(\u001b[0m\u001b[0;34m\"input.txt\"\u001b[0m\u001b[0;34m,\u001b[0m \u001b[0;34m\"r\"\u001b[0m\u001b[0;34m)\u001b[0m\u001b[0;34m\u001b[0m\u001b[0;34m\u001b[0m\u001b[0m\n\u001b[0m\u001b[1;32m      3\u001b[0m \u001b[0mfile2\u001b[0m \u001b[0;34m=\u001b[0m \u001b[0mopen\u001b[0m\u001b[0;34m(\u001b[0m\u001b[0;34m\"output.txt\"\u001b[0m\u001b[0;34m,\u001b[0m \u001b[0;34m\"w\"\u001b[0m\u001b[0;34m)\u001b[0m\u001b[0;34m\u001b[0m\u001b[0;34m\u001b[0m\u001b[0m\n\u001b[1;32m      4\u001b[0m \u001b[0;32mfor\u001b[0m \u001b[0mline\u001b[0m \u001b[0;32min\u001b[0m \u001b[0mfile1\u001b[0m\u001b[0;34m:\u001b[0m\u001b[0;34m\u001b[0m\u001b[0;34m\u001b[0m\u001b[0m\n\u001b[1;32m      5\u001b[0m   \u001b[0mlist\u001b[0m \u001b[0;34m=\u001b[0m \u001b[0mre\u001b[0m\u001b[0;34m.\u001b[0m\u001b[0mfindall\u001b[0m\u001b[0;34m(\u001b[0m\u001b[0;34m'[7-9]\\d{9}'\u001b[0m\u001b[0;34m)\u001b[0m\u001b[0;34m\u001b[0m\u001b[0;34m\u001b[0m\u001b[0m\n",
            "\u001b[0;31mFileNotFoundError\u001b[0m: [Errno 2] No such file or directory: 'input.txt'"
          ]
        }
      ]
    },
    {
      "cell_type": "code",
      "source": [
        "import re\n",
        "n = input(\"enter number \")\n",
        "m = re.fullmatch(\"[7-9]\\d{9}\",n)\n",
        "if m!= None:\n",
        "  print(\"valid mob no\")\n",
        "else :\n",
        "  print(\"in valid mob no\")"
      ],
      "metadata": {
        "colab": {
          "base_uri": "https://localhost:8080/"
        },
        "id": "vxEMQh1Q7cyT",
        "outputId": "6cad71f2-98bd-4c42-c334-62ef4ff9a258"
      },
      "execution_count": 15,
      "outputs": [
        {
          "output_type": "stream",
          "name": "stdout",
          "text": [
            "enter number 8979077546\n",
            "valid mob no\n"
          ]
        }
      ]
    },
    {
      "cell_type": "code",
      "source": [
        "import re\n",
        "n = input(\"enter email id\")\n",
        "m = re.fullmatch(\"\\w[a-zA-Z0-9_.]*@gmail.com\", n)\n",
        "if m!= None:\n",
        "  print(\"valid gmail\")\n",
        "else :\n",
        "  print(\"invalid gmail\")"
      ],
      "metadata": {
        "colab": {
          "base_uri": "https://localhost:8080/"
        },
        "id": "Sf6_VAXv8DSr",
        "outputId": "b8f97f76-8b17-4f59-8854-8dab9b535ccc"
      },
      "execution_count": 16,
      "outputs": [
        {
          "output_type": "stream",
          "name": "stdout",
          "text": [
            "enter email idprn@gmail.com\n",
            "valid gmail\n"
          ]
        }
      ]
    },
    {
      "cell_type": "code",
      "source": [
        "from  datetime import datetime, timedelta\n",
        "\n",
        "class birthday_calc:\n",
        "  def __init__(self, birthday):\n",
        "    self.birthday = datetime.strptime(birthday, \"%Y-%m-%d\").date()\n",
        "\n",
        "  def age(self):\n",
        "    print(\"self.birthday:\",self.birthday )\n",
        "    today = datetime.today().date()\n",
        "    age = today.year - self.birthday.year\n",
        "    if (today.month, today.day) < (self.birthday.month, self.birthday.day):\n",
        "      age -= 1\n",
        "    return age\n",
        "\n",
        "  def timetobirthday(self):\n",
        "    today  = datetime.today().date()\n",
        "    next_birthday = datetime(today.year, self.birthday.month, self.birthday.day ).date()\n",
        "\n",
        "    if next_birthday<today:\n",
        "      next_birthday = datetime(today.year + 1, self.birthday.month, self.birthday.day).date()\n",
        "\n",
        "    time_till_nextbirthday = next_birthday- today\n",
        "    days = time_till_nextbirthday.days\n",
        "    hours , remainder = divmod(time_till_nextbirthday.seconds, 3600)\n",
        "    minutes , seconds = divmod(remainder, 60)\n",
        "\n",
        "    return days, hours , minutes, seconds\n",
        "\n",
        "dob = input(\"enter birthdate (yyyy-mm-dd):\")\n",
        "calc = birthday_calc(dob)\n",
        "age = calc.age()\n",
        "print(\"age = \", age)\n",
        "\n",
        "days, hours, minutes , seconds = calc.timetobirthday()\n",
        "print(f\"days {days } hours {hours}, minutes {minutes}, sec {seconds}\")"
      ],
      "metadata": {
        "colab": {
          "base_uri": "https://localhost:8080/"
        },
        "id": "S95EylXA-5oW",
        "outputId": "b39ce9ec-c184-4973-8c80-ff0527f9dba0"
      },
      "execution_count": 20,
      "outputs": [
        {
          "output_type": "stream",
          "name": "stdout",
          "text": [
            "enter birthdate (yyyy-mm-dd):2002-11-20\n",
            "self.birthday: 2002-11-20\n",
            "age =  20\n",
            "days 121 hours 0, minutes 0, sec 0\n"
          ]
        }
      ]
    },
    {
      "cell_type": "code",
      "source": [
        "alphabet = \"A\"\n",
        "for i in range(1,6):\n",
        "  for j in range(i*2-1):\n",
        "    print(alphabet, end = \"\")\n",
        "    alphabet = chr(ord(alphabet)+1)\n",
        "\n",
        "    if alphabet > \"Z\":\n",
        "      alphabet = \"A\"\n",
        "  print()"
      ],
      "metadata": {
        "colab": {
          "base_uri": "https://localhost:8080/"
        },
        "id": "fNvxVJ8PDBKu",
        "outputId": "2a6b75fe-f9d8-49ab-9736-0b985ebbeaad"
      },
      "execution_count": 22,
      "outputs": [
        {
          "output_type": "stream",
          "name": "stdout",
          "text": [
            "A\n",
            "BCD\n",
            "EFGHI\n",
            "JKLMNOP\n",
            "QRSTUVWXY\n"
          ]
        }
      ]
    },
    {
      "cell_type": "code",
      "source": [],
      "metadata": {
        "id": "I72FOttFENfT"
      },
      "execution_count": null,
      "outputs": []
    }
  ]
}